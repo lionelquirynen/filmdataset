{
  "nbformat": 4,
  "nbformat_minor": 0,
  "metadata": {
    "colab": {
      "name": "testTfeGilles",
      "provenance": [],
      "collapsed_sections": [],
      "toc_visible": true,
      "authorship_tag": "ABX9TyOMrjFgTGC0SxQV8D98Lck5",
      "include_colab_link": true
    },
    "kernelspec": {
      "name": "python3",
      "display_name": "Python 3"
    }
  },
  "cells": [
    {
      "cell_type": "markdown",
      "metadata": {
        "id": "view-in-github",
        "colab_type": "text"
      },
      "source": [
        "<a href=\"https://colab.research.google.com/github/lionelquirynen/filmdataset/blob/master/testTfeGilles.ipynb\" target=\"_parent\"><img src=\"https://colab.research.google.com/assets/colab-badge.svg\" alt=\"Open In Colab\"/></a>"
      ]
    },
    {
      "cell_type": "code",
      "metadata": {
        "id": "C3rA7gC1sHxN",
        "colab_type": "code",
        "colab": {
          "base_uri": "https://localhost:8080/",
          "height": 414
        },
        "outputId": "3c0d2c6c-506f-4fa1-bae9-0ca0c7f0d2ce"
      },
      "source": [
        "from __future__ import absolute_import, division, print_function, unicode_literals\n",
        "\n",
        "import collections\n",
        "import matplotlib.pyplot as plt\n",
        "import numpy as np\n",
        "import pandas as pd\n",
        "import tensorflow.compat.v1 as tf\n",
        "tf.disable_v2_behavior()\n",
        "\n",
        "\n",
        "from tensorflow.keras import layers\n",
        "url = 'https://raw.githubusercontent.com/lionelquirynen/filmdataset/master/filmsDataSet%20-%20Copy.csv'\n",
        "df = pd.read_csv(url,encoding = \"ISO-8859-1\")\n",
        "df.head()\n",
        "\n",
        "\n",
        "\n",
        "\n"
      ],
      "execution_count": 25,
      "outputs": [
        {
          "output_type": "execute_result",
          "data": {
            "text/html": [
              "<div>\n",
              "<style scoped>\n",
              "    .dataframe tbody tr th:only-of-type {\n",
              "        vertical-align: middle;\n",
              "    }\n",
              "\n",
              "    .dataframe tbody tr th {\n",
              "        vertical-align: top;\n",
              "    }\n",
              "\n",
              "    .dataframe thead th {\n",
              "        text-align: right;\n",
              "    }\n",
              "</style>\n",
              "<table border=\"1\" class=\"dataframe\">\n",
              "  <thead>\n",
              "    <tr style=\"text-align: right;\">\n",
              "      <th></th>\n",
              "      <th>Name</th>\n",
              "      <th>Classification</th>\n",
              "      <th>Duration</th>\n",
              "      <th>Genres</th>\n",
              "      <th>Studio</th>\n",
              "      <th>Budget</th>\n",
              "      <th>BoxOffice</th>\n",
              "      <th>releaseDate</th>\n",
              "      <th>Crew</th>\n",
              "      <th>Actors</th>\n",
              "    </tr>\n",
              "  </thead>\n",
              "  <tbody>\n",
              "    <tr>\n",
              "      <th>0</th>\n",
              "      <td>Kate &amp; Leopold (2001)</td>\n",
              "      <td>PG-13</td>\n",
              "      <td>118</td>\n",
              "      <td>Comedy Fantasy Romance</td>\n",
              "      <td>Miramax</td>\n",
              "      <td>NaN</td>\n",
              "      <td>76019048.0</td>\n",
              "      <td>Tue Dec 25 00:00:00 CET 2001</td>\n",
              "      <td>James Mangold : Director///Steven Rogers : Wri...</td>\n",
              "      <td>Meg Ryan///Hugh Jackman///Liev Schreiber///Bre...</td>\n",
              "    </tr>\n",
              "    <tr>\n",
              "      <th>1</th>\n",
              "      <td>?!Bruja  m?!s que bruja! (1977)</td>\n",
              "      <td>NaN</td>\n",
              "      <td>88</td>\n",
              "      <td>Comedy Drama Musical</td>\n",
              "      <td>NaN</td>\n",
              "      <td>NaN</td>\n",
              "      <td>9681.0</td>\n",
              "      <td>Fri Jul 15 00:00:00 CEST 2016</td>\n",
              "      <td>Fernando Fern?!n G??mez : Director///Pedro Bel...</td>\n",
              "      <td>Francisco Algora///Emma Cohen///Mary Santpere/...</td>\n",
              "    </tr>\n",
              "    <tr>\n",
              "      <th>2</th>\n",
              "      <td>Crime Busters (1977)</td>\n",
              "      <td>NaN</td>\n",
              "      <td>115</td>\n",
              "      <td>Action Adventure Comedy Crime</td>\n",
              "      <td>NaN</td>\n",
              "      <td>NaN</td>\n",
              "      <td>33642.0</td>\n",
              "      <td>Thu Nov 03 00:00:00 CET 2016</td>\n",
              "      <td>Enzo Barboni : Director///Enzo Barboni : Write...</td>\n",
              "      <td>Terence Hill///Bud Spencer///David Huddleston/...</td>\n",
              "    </tr>\n",
              "    <tr>\n",
              "      <th>3</th>\n",
              "      <td>Eraserhead (1977)</td>\n",
              "      <td>NaN</td>\n",
              "      <td>89</td>\n",
              "      <td>Horror</td>\n",
              "      <td>NaN</td>\n",
              "      <td>NaN</td>\n",
              "      <td>22179.0</td>\n",
              "      <td>Fri Nov 23 00:00:00 CET 2007</td>\n",
              "      <td>David Lynch : Director///David Lynch : Writer/...</td>\n",
              "      <td>Jack Nance///Charlotte Stewart///Allen Joseph/...</td>\n",
              "    </tr>\n",
              "    <tr>\n",
              "      <th>4</th>\n",
              "      <td>La question (1977)</td>\n",
              "      <td>NaN</td>\n",
              "      <td>112</td>\n",
              "      <td>Drama War</td>\n",
              "      <td>NaN</td>\n",
              "      <td>NaN</td>\n",
              "      <td>7519.0</td>\n",
              "      <td>Wed Sep 19 00:00:00 CEST 2001</td>\n",
              "      <td>Laurent Heynemann : Director///Henri Alleg : W...</td>\n",
              "      <td>Jacques Denis///Nicole Garcia///Jean-Pierre Se...</td>\n",
              "    </tr>\n",
              "  </tbody>\n",
              "</table>\n",
              "</div>"
            ],
            "text/plain": [
              "                              Name  ...                                             Actors\n",
              "0            Kate & Leopold (2001)  ...  Meg Ryan///Hugh Jackman///Liev Schreiber///Bre...\n",
              "1  ?!Bruja  m?!s que bruja! (1977)  ...  Francisco Algora///Emma Cohen///Mary Santpere/...\n",
              "2             Crime Busters (1977)  ...  Terence Hill///Bud Spencer///David Huddleston/...\n",
              "3                Eraserhead (1977)  ...  Jack Nance///Charlotte Stewart///Allen Joseph/...\n",
              "4               La question (1977)  ...  Jacques Denis///Nicole Garcia///Jean-Pierre Se...\n",
              "\n",
              "[5 rows x 10 columns]"
            ]
          },
          "metadata": {
            "tags": []
          },
          "execution_count": 25
        }
      ]
    }
  ]
}