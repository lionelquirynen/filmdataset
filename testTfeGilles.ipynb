{
  "nbformat": 4,
  "nbformat_minor": 0,
  "metadata": {
    "colab": {
      "name": "testTfeGilles",
      "provenance": [],
      "collapsed_sections": [],
      "toc_visible": true,
      "authorship_tag": "ABX9TyNJM83v+enTX2iTFhWXuvT9",
      "include_colab_link": true
    },
    "kernelspec": {
      "name": "python3",
      "display_name": "Python 3"
    }
  },
  "cells": [
    {
      "cell_type": "markdown",
      "metadata": {
        "id": "view-in-github",
        "colab_type": "text"
      },
      "source": [
        "<a href=\"https://colab.research.google.com/github/lionelquirynen/filmdataset/blob/master/testTfeGilles.ipynb\" target=\"_parent\"><img src=\"https://colab.research.google.com/assets/colab-badge.svg\" alt=\"Open In Colab\"/></a>"
      ]
    },
    {
      "cell_type": "code",
      "metadata": {
        "id": "C3rA7gC1sHxN",
        "colab_type": "code",
        "colab": {
          "base_uri": "https://localhost:8080/",
          "height": 727
        },
        "outputId": "2b38e89c-33ba-4791-baee-9c7c6b5515f4"
      },
      "source": [
        "from __future__ import absolute_import, division, print_function, unicode_literals\n",
        "\n",
        "import collections\n",
        "import matplotlib.pyplot as plt\n",
        "import numpy as np\n",
        "import pandas as pd\n",
        "import tensorflow.compat.v1 as tf\n",
        "tf.disable_v2_behavior()\n",
        "\n",
        "\n",
        "from tensorflow.keras import layers\n",
        "url = 'https://raw.githubusercontent.com/lionelquirynen/filmdataset/master/filmsDataSet%20-%20Copy.csv'\n",
        "df = pd.read_csv(url,encoding = \"ISO-8859-1\")\n",
        "df['Name'] = pd.Categorical(df['Name'])\n",
        "df['Name'] = df.Name.cat.codes\n",
        "df['Name'] = df['Name'].astype(float)\n",
        "df['Classification'] = pd.Categorical(df['Classification'])\n",
        "df['Classification'] = df.Classification.cat.codes\n",
        "df['Classification'] = df['Classification'].astype(float)\n",
        "\n",
        "df['Studio'] = pd.Categorical(df['Studio'])\n",
        "df['Studio'] = df.Studio.cat.codes\n",
        "df['Studio'] = df['Studio'].astype(float)\n",
        "\n",
        "df['Genres'] = pd.Categorical(df['Genres'])\n",
        "df['Genres'] = df.Genres.cat.codes\n",
        "df['Genres'] = df['Genres'].astype(float)\n",
        "\n",
        "df['Budget'] = pd.Categorical(df['Budget'])\n",
        "df['Budget'] = df.Budget.cat.codes\n",
        "df['Budget'] = df['Budget'].astype(float)\n",
        "\n",
        "df['BoxOffice'] = pd.Categorical(df['BoxOffice'])\n",
        "df['BoxOffice'] = df.BoxOffice.cat.codes\n",
        "df['BoxOffice'] = df['BoxOffice'].astype(float)\n",
        "\n",
        "df['Duration'] = pd.Categorical(df['Duration'])\n",
        "df['Duration'] = df.Duration.cat.codes\n",
        "df['Duration'] = df['Duration'].astype(float)\n",
        "\n",
        "df['releaseDate'] = pd.Categorical(df['releaseDate'])\n",
        "df['releaseDate'] = df.releaseDate.cat.codes\n",
        "df['releaseDate'] = df['releaseDate'].astype(float)\n",
        "\n",
        "df['Crew'] = pd.Categorical(df['Crew'])\n",
        "df['Crew'] = df.Crew.cat.codes\n",
        "df['Crew'] = df['Crew'].astype(float)\n",
        "\n",
        "df['Actors'] = pd.Categorical(df['Actors'])\n",
        "df['Actors'] = df.Actors.cat.codes\n",
        "df['Actors'] = df['Actors'].astype(float)\n",
        "\n",
        "target = df.pop('BoxOffice')\n",
        "dataset = tf.data.Dataset.from_tensor_slices((df.values, target.values))\n",
        "train_dataset = dataset.shuffle(len(df)).batch(1)\n",
        "def get_compiled_model():\n",
        "  model = tf.keras.Sequential([\n",
        "    tf.keras.layers.Dense(10, activation='relu'),\n",
        "    tf.keras.layers.Dense(10, activation='relu'),\n",
        "    tf.keras.layers.Dense(1)\n",
        "  ])\n",
        "\n",
        "  model.compile(optimizer='adam',\n",
        "                loss=tf.keras.losses.BinaryCrossentropy(from_logits=True),\n",
        "                metrics=['accuracy'])\n",
        "  return model\n",
        "model = get_compiled_model()\n",
        "model.fit(train_dataset, epochs=15)\n",
        "\n",
        "\n",
        "\n",
        "\n",
        "\n",
        "\n",
        "\n"
      ],
      "execution_count": 57,
      "outputs": [
        {
          "output_type": "stream",
          "text": [
            "WARNING:tensorflow:From /tensorflow-1.15.0/python3.6/tensorflow_core/python/ops/resource_variable_ops.py:1630: calling BaseResourceVariable.__init__ (from tensorflow.python.ops.resource_variable_ops) with constraint is deprecated and will be removed in a future version.\n",
            "Instructions for updating:\n",
            "If using Keras pass *_constraint arguments to layers.\n",
            "WARNING:tensorflow:From /tensorflow-1.15.0/python3.6/tensorflow_core/python/ops/nn_impl.py:183: where (from tensorflow.python.ops.array_ops) is deprecated and will be removed in a future version.\n",
            "Instructions for updating:\n",
            "Use tf.where in 2.0, which has the same broadcast rule as np.where\n",
            "Train on 26165 steps\n",
            "Epoch 1/15\n",
            "26165/26165 [==============================] - 34s 1ms/step - loss: -101856162777761.6250 - acc: 3.8219e-05\n",
            "Epoch 2/15\n",
            "26165/26165 [==============================] - 33s 1ms/step - loss: -1175208838961078.0000 - acc: 3.8219e-05\n",
            "Epoch 3/15\n",
            "26165/26165 [==============================] - 33s 1ms/step - loss: -4535464301455917.0000 - acc: 3.8219e-05\n",
            "Epoch 4/15\n",
            "26165/26165 [==============================] - 33s 1ms/step - loss: -11533423062076822.0000 - acc: 3.8219e-05\n",
            "Epoch 5/15\n",
            "26165/26165 [==============================] - 35s 1ms/step - loss: -23636265298669348.0000 - acc: 3.8219e-05\n",
            "Epoch 6/15\n",
            "26165/26165 [==============================] - 33s 1ms/step - loss: -42241119342563192.0000 - acc: 3.8219e-05\n",
            "Epoch 7/15\n",
            "26165/26165 [==============================] - 33s 1ms/step - loss: -68686732993491928.0000 - acc: 3.8219e-05\n",
            "Epoch 8/15\n",
            "26165/26165 [==============================] - 33s 1ms/step - loss: -104466982639195808.0000 - acc: 3.8219e-05\n",
            "Epoch 9/15\n",
            "26165/26165 [==============================] - 33s 1ms/step - loss: -151018010186313696.0000 - acc: 3.8219e-05\n",
            "Epoch 10/15\n",
            "26165/26165 [==============================] - 34s 1ms/step - loss: -209327161916886816.0000 - acc: 3.8219e-05\n",
            "Epoch 11/15\n",
            "26165/26165 [==============================] - 34s 1ms/step - loss: -281139148519454304.0000 - acc: 3.8219e-05\n",
            "Epoch 12/15\n",
            "26165/26165 [==============================] - 33s 1ms/step - loss: -367917625961996032.0000 - acc: 3.8219e-05\n",
            "Epoch 13/15\n",
            "26165/26165 [==============================] - 33s 1ms/step - loss: -470387130180293824.0000 - acc: 3.8219e-05\n",
            "Epoch 14/15\n",
            "26165/26165 [==============================] - 34s 1ms/step - loss: -591018148204918016.0000 - acc: 3.8219e-05\n",
            "Epoch 15/15\n",
            "26165/26165 [==============================] - 34s 1ms/step - loss: -730243065459402240.0000 - acc: 3.8219e-05\n"
          ],
          "name": "stdout"
        },
        {
          "output_type": "execute_result",
          "data": {
            "text/plain": [
              "<tensorflow.python.keras.callbacks.History at 0x7f71aa0e6080>"
            ]
          },
          "metadata": {
            "tags": []
          },
          "execution_count": 57
        }
      ]
    }
  ]
}